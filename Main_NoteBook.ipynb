{
  "nbformat": 4,
  "nbformat_minor": 0,
  "metadata": {
    "colab": {
      "name": "Huawei HW2.ipynb",
      "provenance": [],
      "collapsed_sections": [],
      "toc_visible": true
    },
    "kernelspec": {
      "name": "python3",
      "display_name": "Python 3"
    },
    "accelerator": "GPU"
  },
  "cells": [
    {
      "cell_type": "markdown",
      "metadata": {
        "id": "Gis2EZT64pjE",
        "colab_type": "text"
      },
      "source": [
        "# ***ReadME DOC - Youshaa Murhij - Coding Homework 1***\n",
        "\n",
        "---\n",
        "\n"
      ]
    },
    {
      "cell_type": "markdown",
      "metadata": {
        "id": "uW7DErHx35PO",
        "colab_type": "text"
      },
      "source": [
        "\n",
        "# **Required Task 1** "
      ]
    },
    {
      "cell_type": "markdown",
      "metadata": {
        "id": "_Zta0_Wu41vZ",
        "colab_type": "text"
      },
      "source": [
        "First I imported required libraries for printing and displaying results as Figures"
      ]
    },
    {
      "cell_type": "code",
      "metadata": {
        "id": "slCV437OR-rJ",
        "colab_type": "code",
        "colab": {}
      },
      "source": [
        "%matplotlib inline"
      ],
      "execution_count": 0,
      "outputs": []
    },
    {
      "cell_type": "code",
      "metadata": {
        "id": "l-1CwvdDoisz",
        "colab_type": "code",
        "colab": {}
      },
      "source": [
        "import pandas as pd\n",
        "import matplotlib.pyplot as plt"
      ],
      "execution_count": 0,
      "outputs": []
    },
    {
      "cell_type": "markdown",
      "metadata": {
        "id": "Fp3cqSbU5BqI",
        "colab_type": "text"
      },
      "source": [
        "Here I installed the lastest version of Pytorsh Platform"
      ]
    },
    {
      "cell_type": "code",
      "metadata": {
        "id": "3FWLTqGqLsxK",
        "colab_type": "code",
        "outputId": "ff904bd6-f2e8-4838-e6c0-e424cce35b14",
        "colab": {
          "base_uri": "https://localhost:8080/",
          "height": 121
        }
      },
      "source": [
        "from google.colab import drive\n",
        "drive.mount('/content/drive')"
      ],
      "execution_count": 0,
      "outputs": [
        {
          "output_type": "stream",
          "text": [
            "Go to this URL in a browser: https://accounts.google.com/o/oauth2/auth?client_id=947318989803-6bn6qk8qdgf4n4g3pfee6491hc0brc4i.apps.googleusercontent.com&redirect_uri=urn%3Aietf%3Awg%3Aoauth%3A2.0%3Aoob&scope=email%20https%3A%2F%2Fwww.googleapis.com%2Fauth%2Fdocs.test%20https%3A%2F%2Fwww.googleapis.com%2Fauth%2Fdrive%20https%3A%2F%2Fwww.googleapis.com%2Fauth%2Fdrive.photos.readonly%20https%3A%2F%2Fwww.googleapis.com%2Fauth%2Fpeopleapi.readonly&response_type=code\n",
            "\n",
            "Enter your authorization code:\n",
            "··········\n",
            "Mounted at /content/drive\n"
          ],
          "name": "stdout"
        }
      ]
    },
    {
      "cell_type": "code",
      "metadata": {
        "id": "QTldfrO7mKEp",
        "colab_type": "code",
        "colab": {}
      },
      "source": [
        "!pip install -q torch==1.3.0 torchvision"
      ],
      "execution_count": 0,
      "outputs": []
    },
    {
      "cell_type": "code",
      "metadata": {
        "id": "zwNEich_GcHV",
        "colab_type": "code",
        "colab": {}
      },
      "source": [
        "%cd /content/drive/My\\ Drive/"
      ],
      "execution_count": 0,
      "outputs": []
    },
    {
      "cell_type": "code",
      "metadata": {
        "id": "6oIC5EGYmOIE",
        "colab_type": "code",
        "outputId": "7bc10814-b209-417f-b78a-1bde3af0642c",
        "colab": {
          "base_uri": "https://localhost:8080/",
          "height": 34
        }
      },
      "source": [
        "import torch\n",
        "print(torch.__version__)"
      ],
      "execution_count": 0,
      "outputs": [
        {
          "output_type": "stream",
          "text": [
            "1.3.1+cu100\n"
          ],
          "name": "stdout"
        }
      ]
    },
    {
      "cell_type": "markdown",
      "metadata": {
        "id": "H9uRjUkO5WvB",
        "colab_type": "text"
      },
      "source": [
        "**After that, we need to download the base line code for this paper from github**"
      ]
    },
    {
      "cell_type": "code",
      "metadata": {
        "id": "6fEnlaynAyNG",
        "colab_type": "code",
        "colab": {}
      },
      "source": [
        "!git clone --recursive https://github.com/chenhuims/pytorch-classification.git"
      ],
      "execution_count": 0,
      "outputs": []
    },
    {
      "cell_type": "code",
      "metadata": {
        "id": "LZOQkYDaA04u",
        "colab_type": "code",
        "outputId": "f692cb62-00d1-46f8-e920-d2494cae3b9e",
        "colab": {
          "base_uri": "https://localhost:8080/",
          "height": 34
        }
      },
      "source": [
        "%cd /content/drive/My Drive/pytorch-classification/"
      ],
      "execution_count": 0,
      "outputs": [
        {
          "output_type": "stream",
          "text": [
            "/content/drive/My Drive/pytorch-classification\n"
          ],
          "name": "stdout"
        }
      ]
    },
    {
      "cell_type": "markdown",
      "metadata": {
        "id": "UBjiCPey5iWF",
        "colab_type": "text"
      },
      "source": [
        "Here I called the train function on resnet and set the depth to 20 with 164 epochs and saved the results to a log file to display them later"
      ]
    },
    {
      "cell_type": "code",
      "metadata": {
        "id": "fhxHve-_GLyc",
        "colab_type": "code",
        "colab": {}
      },
      "source": [
        "%cd /content/drive/My Drive/pytorch-classification/\n",
        "!python cifar.py -a resnet --depth 20 --epochs 164 --schedule 81 122 --gamma 0.1 --wd 1e-4 --checkpoint checkpoint/cifar10/resnet-20 "
      ],
      "execution_count": 0,
      "outputs": []
    },
    {
      "cell_type": "markdown",
      "metadata": {
        "id": "LC6nu2RE59Hx",
        "colab_type": "text"
      },
      "source": [
        "Required Libraries to display the graphs in a good way"
      ]
    },
    {
      "cell_type": "code",
      "metadata": {
        "id": "DUHJPNZnow-q",
        "colab_type": "code",
        "colab": {}
      },
      "source": [
        "import seaborn as sns\n",
        "sns.set()"
      ],
      "execution_count": 0,
      "outputs": []
    },
    {
      "cell_type": "markdown",
      "metadata": {
        "id": "xe7yAeJH6EqZ",
        "colab_type": "text"
      },
      "source": [
        "Displaying the Loss and the Accuracy "
      ]
    },
    {
      "cell_type": "code",
      "metadata": {
        "id": "W9hB8mRVM6Mb",
        "colab_type": "code",
        "colab": {}
      },
      "source": [
        "%cd /content/drive/My Drive/pytorch-classification/checkpoint/cifar10/resnet-20/\n",
        "file = pd.read_csv('log.txt',delimiter='\t')\n",
        "plt.plot(file['Train_Loss'])\n",
        "plt.plot(file['Valid_Loss'])\n",
        "plt.legend(['Train_Loss','Valid_Loss'],loc='upper right');\n",
        "plt.show()"
      ],
      "execution_count": 0,
      "outputs": []
    },
    {
      "cell_type": "markdown",
      "metadata": {
        "id": "ezw1lvZihOKs",
        "colab_type": "text"
      },
      "source": [
        "Displaying the accuracy figure:"
      ]
    },
    {
      "cell_type": "code",
      "metadata": {
        "id": "pb8h2CzEmCXb",
        "colab_type": "code",
        "colab": {}
      },
      "source": [
        "plt.plot(file['Train_Acc.'])\n",
        "plt.plot(file['Valid_Acc.'])\n",
        "plt.legend(['Train_Acc.','Valid_Acc.'],loc='lower right');\n",
        "plt.show()"
      ],
      "execution_count": 0,
      "outputs": []
    },
    {
      "cell_type": "markdown",
      "metadata": {
        "id": "f3tQwJZk58Yj",
        "colab_type": "text"
      },
      "source": [
        "Here I called the train function on resnet and set the depth to 56 with 125 epochs and saved the results to a log file to display them later"
      ]
    },
    {
      "cell_type": "code",
      "metadata": {
        "id": "teOiUXFyY-rb",
        "colab_type": "code",
        "colab": {}
      },
      "source": [
        "%cd /content/drive/My Drive/pytorch-classification/\n",
        "!python cifar.py -a resnet --depth 56 --epochs 125 --schedule 81 122 --gamma 0.1 --wd 1e-4 --checkpoint checkpoint/cifar10/resnet-56 "
      ],
      "execution_count": 0,
      "outputs": []
    },
    {
      "cell_type": "code",
      "metadata": {
        "id": "XgwP2N75NzYe",
        "colab_type": "code",
        "colab": {}
      },
      "source": [
        "%cd /content/drive/My Drive/pytorch-classification/checkpoint/cifar10/resnet-56/\n",
        "file = pd.read_csv('log.txt',delimiter='\t')\n",
        "plt.plot(file['Train_Loss'])\n",
        "plt.plot(file['Valid_Loss'])\n",
        "plt.legend(['Train_Loss','Valid_Loss'],loc='upper right');\n",
        "plt.show()"
      ],
      "execution_count": 0,
      "outputs": []
    },
    {
      "cell_type": "code",
      "metadata": {
        "id": "Vrb2ctl5N4eN",
        "colab_type": "code",
        "colab": {}
      },
      "source": [
        "plt.plot(file['Train_Acc.'])\n",
        "plt.plot(file['Valid_Acc.'])\n",
        "plt.legend(['Train_Acc.','Valid_Acc.'],loc='lower right');\n",
        "plt.show()"
      ],
      "execution_count": 0,
      "outputs": []
    },
    {
      "cell_type": "markdown",
      "metadata": {
        "id": "BM7nFqIF6gNY",
        "colab_type": "text"
      },
      "source": [
        "Here I called the train function on CIFAR10 and set the depth to 110 with 110 epochs and saved the results to a log file to display them later"
      ]
    },
    {
      "cell_type": "code",
      "metadata": {
        "id": "Tt2ymP9N34N6",
        "colab_type": "code",
        "colab": {}
      },
      "source": [
        "%cd /content/drive/My Drive/pytorch-classification/\n",
        "!python cifar.py -a resnet --depth 110 --epochs 110 --schedule 81 122 --gamma 0.1 --wd 1e-4 --checkpoint checkpoint/cifar10/resnet-110 "
      ],
      "execution_count": 0,
      "outputs": []
    },
    {
      "cell_type": "code",
      "metadata": {
        "id": "fyd74DFtC2n7",
        "colab_type": "code",
        "colab": {}
      },
      "source": [
        "%cd /content/drive/My Drive/pytorch-classification/checkpoint/cifar10/resnet-110/\n",
        "file = pd.read_csv('log.txt',delimiter='\t')\n",
        "plt.plot(file['Train_Loss'])\n",
        "plt.plot(file['Valid_Loss'])\n",
        "plt.legend(['Train_Loss','Valid_Loss'],loc='upper right');\n",
        "plt.show()"
      ],
      "execution_count": 0,
      "outputs": []
    },
    {
      "cell_type": "code",
      "metadata": {
        "id": "Ry4zKmeyDBZg",
        "colab_type": "code",
        "colab": {}
      },
      "source": [
        "plt.plot(file['Train_Acc.'])\n",
        "plt.plot(file['Valid_Acc.'])\n",
        "plt.legend(['Train_Acc.','Valid_Acc.'],loc='lower right');\n",
        "plt.show()"
      ],
      "execution_count": 0,
      "outputs": []
    },
    {
      "cell_type": "markdown",
      "metadata": {
        "id": "cFDoRkFw6kuD",
        "colab_type": "text"
      },
      "source": [
        "Here I called the train function on cifar100 and set the depth to 20 with 100 epochs and saved the results to a log file to display them later"
      ]
    },
    {
      "cell_type": "code",
      "metadata": {
        "id": "qEzvRBrf91Gv",
        "colab_type": "code",
        "colab": {}
      },
      "source": [
        "%cd /content/drive/My Drive/pytorch-classification/\n",
        "!python cifar.py -a resnet --dataset cifar100 --depth 20 --epochs 100 --schedule 81 122 --gamma 0.1 --wd 1e-4 --checkpoint checkpoint/cifar100/resnet-20 "
      ],
      "execution_count": 0,
      "outputs": []
    },
    {
      "cell_type": "code",
      "metadata": {
        "id": "64RC1AvzPoZ7",
        "colab_type": "code",
        "colab": {}
      },
      "source": [
        "%cd /content/drive/My Drive/pytorch-classification/checkpoint/cifar100/resnet-20/\n",
        "file = pd.read_csv('log.txt',delimiter='\t')\n",
        "plt.plot(file['Train_Loss'])\n",
        "plt.plot(file['Valid_Loss'])\n",
        "plt.legend(['Train_Loss','Valid_Loss'],loc='upper right');\n",
        "plt.show()"
      ],
      "execution_count": 0,
      "outputs": []
    },
    {
      "cell_type": "code",
      "metadata": {
        "id": "MoUyKjRJPtEM",
        "colab_type": "code",
        "colab": {}
      },
      "source": [
        "plt.plot(file['Train_Acc.'])\n",
        "plt.plot(file['Valid_Acc.'])\n",
        "plt.legend(['Train_Acc.','Valid_Acc.'],loc='lower right');\n",
        "plt.show()"
      ],
      "execution_count": 0,
      "outputs": []
    },
    {
      "cell_type": "markdown",
      "metadata": {
        "id": "VlRpMCAh6u1H",
        "colab_type": "text"
      },
      "source": [
        "Here I called the train function on cifar100 and set the depth to 56 with 100 epochs and saved the results to a log file to display them later"
      ]
    },
    {
      "cell_type": "code",
      "metadata": {
        "id": "ohCpMTP-Sk7J",
        "colab_type": "code",
        "colab": {}
      },
      "source": [
        "%cd /content/drive/My Drive/pytorch-classification/\n",
        "!python cifar.py -a resnet --dataset cifar100 --depth 56 --epochs 100 --schedule 81 122 --gamma 0.1 --wd 1e-4 --checkpoint checkpoint/cifar100/resnet-56 "
      ],
      "execution_count": 0,
      "outputs": []
    },
    {
      "cell_type": "code",
      "metadata": {
        "id": "cX82D4xFSsgw",
        "colab_type": "code",
        "colab": {}
      },
      "source": [
        "%cd /content/drive/My Drive/pytorch-classification/checkpoint/cifar100/resnet-56/\n",
        "file = pd.read_csv('log.txt',delimiter='\t')\n",
        "plt.plot(file['Train_Loss'])\n",
        "plt.plot(file['Valid_Loss'])\n",
        "plt.legend(['Train_Loss','Valid_Loss'],loc='upper right');\n",
        "plt.show()"
      ],
      "execution_count": 0,
      "outputs": []
    },
    {
      "cell_type": "code",
      "metadata": {
        "id": "Bcj93k5NStGw",
        "colab_type": "code",
        "colab": {}
      },
      "source": [
        "plt.plot(file['Train_Acc.'])\n",
        "plt.plot(file['Valid_Acc.'])\n",
        "plt.legend(['Train_Acc.','Valid_Acc.'],loc='lower right');\n",
        "plt.show()"
      ],
      "execution_count": 0,
      "outputs": []
    },
    {
      "cell_type": "markdown",
      "metadata": {
        "id": "cYDP_57_6xIz",
        "colab_type": "text"
      },
      "source": [
        "Here I called the train function on cifar100 and set the depth to 110 with 100 epochs and saved the results to a log file to display them later"
      ]
    },
    {
      "cell_type": "code",
      "metadata": {
        "id": "94pAUYsJ0K8c",
        "colab_type": "code",
        "colab": {}
      },
      "source": [
        "%cd /content/drive/My Drive/pytorch-classification/\n",
        "!python cifar.py -a resnet --dataset cifar100 --depth 110 --epochs 100 --schedule 81 122 --gamma 0.1 --wd 1e-4 --checkpoint checkpoint/cifar100/resnet-110 "
      ],
      "execution_count": 0,
      "outputs": []
    },
    {
      "cell_type": "code",
      "metadata": {
        "id": "P4uHdJW_0NLj",
        "colab_type": "code",
        "colab": {}
      },
      "source": [
        "%cd /content/drive/My Drive/pytorch-classification/checkpoint/cifar100/resnet-110/\n",
        "file = pd.read_csv('log.txt',delimiter='\t')\n",
        "plt.plot(file['Train_Loss'])\n",
        "plt.plot(file['Valid_Loss'])\n",
        "plt.legend(['Train_Loss','Valid_Loss'],loc='upper right');\n",
        "plt.show()"
      ],
      "execution_count": 0,
      "outputs": []
    },
    {
      "cell_type": "markdown",
      "metadata": {
        "id": "yAXkKzqM0SAr",
        "colab_type": "text"
      },
      "source": [
        ""
      ]
    },
    {
      "cell_type": "code",
      "metadata": {
        "id": "PrxwgsrM0QHW",
        "colab_type": "code",
        "colab": {}
      },
      "source": [
        "plt.plot(file['Train_Acc.'])\n",
        "plt.plot(file['Valid_Acc.'])\n",
        "plt.legend(['Train_Acc.','Valid_Acc.'],loc='lower right');\n",
        "plt.show()"
      ],
      "execution_count": 0,
      "outputs": []
    },
    {
      "cell_type": "markdown",
      "metadata": {
        "id": "hEqjCF7kQUfW",
        "colab_type": "text"
      },
      "source": [
        "# **Optional Task 1** "
      ]
    },
    {
      "cell_type": "markdown",
      "metadata": {
        "id": "sEti55zLQrKh",
        "colab_type": "text"
      },
      "source": [
        "First, we multiply the base learning rate by 10 and check for changes in the results"
      ]
    },
    {
      "cell_type": "code",
      "metadata": {
        "id": "Z314o0TBKXic",
        "colab_type": "code",
        "colab": {}
      },
      "source": [
        "%cd /content/drive/My Drive/pytorch-classification/\n",
        "!python cifar.py -a resnet --dataset cifar10 --depth 20 --epochs 100 --schedule 81 122 --gamma 0.1 --wd 1e-3 --checkpoint checkpoint/cifar10_optional/resnet-20 "
      ],
      "execution_count": 0,
      "outputs": []
    },
    {
      "cell_type": "code",
      "metadata": {
        "id": "dKY5KlGFd9Ki",
        "colab_type": "code",
        "colab": {}
      },
      "source": [
        "%cd /content/drive/My Drive/pytorch-classification/checkpoint/cifar10_optional/resnet-20/\n",
        "file = pd.read_csv('log.txt',delimiter='\t')\n",
        "plt.plot(file['Train_Loss'])\n",
        "plt.plot(file['Valid_Loss'])\n",
        "plt.legend(['Train_Loss','Valid_Loss'],loc='upper right');\n",
        "plt.show()"
      ],
      "execution_count": 0,
      "outputs": []
    },
    {
      "cell_type": "code",
      "metadata": {
        "id": "FOI45m66d9Ee",
        "colab_type": "code",
        "colab": {}
      },
      "source": [
        "plt.plot(file['Train_Acc.'])\n",
        "plt.plot(file['Valid_Acc.'])\n",
        "plt.legend(['Train_Acc.','Valid_Acc.'],loc='lower right');\n",
        "plt.show()"
      ],
      "execution_count": 0,
      "outputs": []
    },
    {
      "cell_type": "markdown",
      "metadata": {
        "id": "f4aFGFV9I8FK",
        "colab_type": "text"
      },
      "source": [
        "then, we multiply the base learning rate by 5 and check for changes in the results"
      ]
    },
    {
      "cell_type": "code",
      "metadata": {
        "id": "VgZF5NpBfBGO",
        "colab_type": "code",
        "colab": {}
      },
      "source": [
        "%cd /content/drive/My Drive/pytorch-classification/\n",
        "!python cifar.py -a resnet --dataset cifar10 --depth 20 --epochs 80 --schedule 81 122 --gamma 0.1 --wd 5e-4 --checkpoint checkpoint/cifar10_optional/resnet-20_5e-4"
      ],
      "execution_count": 0,
      "outputs": []
    },
    {
      "cell_type": "code",
      "metadata": {
        "colab_type": "code",
        "id": "lKZ0fwnifJbY",
        "colab": {}
      },
      "source": [
        "%cd /content/drive/My Drive/pytorch-classification/checkpoint/cifar10_optional/resnet-20_5e-4/\n",
        "file = pd.read_csv('log.txt',delimiter='\t')\n",
        "plt.plot(file['Train_Loss'])\n",
        "plt.plot(file['Valid_Loss'])\n",
        "plt.legend(['Train_Loss','Valid_Loss'],loc='upper right');\n",
        "plt.show()"
      ],
      "execution_count": 0,
      "outputs": []
    },
    {
      "cell_type": "code",
      "metadata": {
        "colab_type": "code",
        "id": "6_lDlFeTfJbd",
        "colab": {}
      },
      "source": [
        "plt.plot(file['Train_Acc.'])\n",
        "plt.plot(file['Valid_Acc.'])\n",
        "plt.legend(['Train_Acc.','Valid_Acc.'],loc='lower right');\n",
        "plt.show()"
      ],
      "execution_count": 0,
      "outputs": []
    },
    {
      "cell_type": "markdown",
      "metadata": {
        "id": "HelwcNyBI9-E",
        "colab_type": "text"
      },
      "source": [
        "we multiply the base learning rate by 2"
      ]
    },
    {
      "cell_type": "code",
      "metadata": {
        "colab_type": "code",
        "id": "jM5rMzQl7KjT",
        "colab": {}
      },
      "source": [
        "%cd /content/drive/My Drive/pytorch-classification/\n",
        "!python cifar.py -a resnet --dataset cifar10 --depth 20 --epochs 80 --schedule 81 122 --gamma 0.1 --wd 2e-4 --checkpoint checkpoint/cifar10_optional/resnet-20_2e-4"
      ],
      "execution_count": 0,
      "outputs": []
    },
    {
      "cell_type": "code",
      "metadata": {
        "colab_type": "code",
        "id": "on6DSMzr7KjY",
        "colab": {}
      },
      "source": [
        "%cd /content/drive/My Drive/pytorch-classification/checkpoint/cifar10_optional/resnet-20_2e-4/\n",
        "file = pd.read_csv('log.txt',delimiter='\t')\n",
        "plt.plot(file['Train_Loss'])\n",
        "plt.plot(file['Valid_Loss'])\n",
        "plt.legend(['Train_Loss','Valid_Loss'],loc='upper right');\n",
        "plt.show()"
      ],
      "execution_count": 0,
      "outputs": []
    },
    {
      "cell_type": "code",
      "metadata": {
        "colab_type": "code",
        "id": "koYnJk4v7Kja",
        "colab": {}
      },
      "source": [
        "plt.plot(file['Train_Acc.'])\n",
        "plt.plot(file['Valid_Acc.'])\n",
        "plt.legend(['Train_Acc.','Valid_Acc.'],loc='lower right');\n",
        "plt.show()"
      ],
      "execution_count": 0,
      "outputs": []
    },
    {
      "cell_type": "markdown",
      "metadata": {
        "id": "hxufdpsvI_dN",
        "colab_type": "text"
      },
      "source": [
        "we multiply the base learning rate by 1/10"
      ]
    },
    {
      "cell_type": "code",
      "metadata": {
        "id": "hrAoJVX58Eln",
        "colab_type": "code",
        "colab": {}
      },
      "source": [
        "%cd /content/drive/My Drive/pytorch-classification/\n",
        "!python cifar.py -a resnet --dataset cifar10 --depth 20 --epochs 85 --schedule 81 122 --gamma 0.1 --wd 1e-5 --checkpoint checkpoint/cifar10_optional/resnet-20_1e-5"
      ],
      "execution_count": 0,
      "outputs": []
    },
    {
      "cell_type": "code",
      "metadata": {
        "colab_type": "code",
        "id": "hsjaooiOqoQ0",
        "colab": {}
      },
      "source": [
        "%cd /content/drive/My Drive/pytorch-classification/checkpoint/cifar10_optional/resnet-20_1e-5/\n",
        "file = pd.read_csv('log.txt',delimiter='\t')\n",
        "plt.plot(file['Train_Loss'])\n",
        "plt.plot(file['Valid_Loss'])\n",
        "plt.legend(['Train_Loss','Valid_Loss'],loc='upper right');\n",
        "plt.show()"
      ],
      "execution_count": 0,
      "outputs": []
    },
    {
      "cell_type": "code",
      "metadata": {
        "colab_type": "code",
        "id": "5BtponiFqoQ2",
        "colab": {}
      },
      "source": [
        "plt.plot(file['Train_Acc.'])\n",
        "plt.plot(file['Valid_Acc.'])\n",
        "plt.legend(['Train_Acc.','Valid_Acc.'],loc='lower right');\n",
        "plt.show()"
      ],
      "execution_count": 0,
      "outputs": []
    },
    {
      "cell_type": "markdown",
      "metadata": {
        "id": "a1JZuZ2nJEyl",
        "colab_type": "text"
      },
      "source": [
        "we double the number of training epochs"
      ]
    },
    {
      "cell_type": "code",
      "metadata": {
        "id": "ljJjPfrEJEoM",
        "colab_type": "code",
        "colab": {}
      },
      "source": [
        "%cd /content/drive/My Drive/pytorch-classification/\n",
        "!python cifar.py -a resnet --dataset cifar10 --depth 20 --epochs 160 --schedule 81 122 --gamma 0.1 --wd 1e-4 --checkpoint checkpoint/cifar10_optional/resnet-20_epochx2"
      ],
      "execution_count": 0,
      "outputs": []
    },
    {
      "cell_type": "code",
      "metadata": {
        "id": "5bDvZG9lihFS",
        "colab_type": "code",
        "colab": {}
      },
      "source": [
        "%cd /content/drive/My Drive/pytorch-classification/checkpoint/cifar10_optional/resnet-20_epochx2/\n",
        "file = pd.read_csv('log.txt',delimiter='\t')\n",
        "plt.plot(file['Train_Loss'])\n",
        "plt.plot(file['Valid_Loss'])\n",
        "plt.legend(['Train_Loss','Valid_Loss'],loc='upper right');\n",
        "plt.show()"
      ],
      "execution_count": 0,
      "outputs": []
    },
    {
      "cell_type": "code",
      "metadata": {
        "id": "U0JJLJcfilBv",
        "colab_type": "code",
        "colab": {}
      },
      "source": [
        "plt.plot(file['Train_Acc.'])\n",
        "plt.plot(file['Valid_Acc.'])\n",
        "plt.legend(['Train_Acc.','Valid_Acc.'],loc='lower right');\n",
        "plt.show()"
      ],
      "execution_count": 0,
      "outputs": []
    },
    {
      "cell_type": "markdown",
      "metadata": {
        "id": "c3oWO0bajWT-",
        "colab_type": "text"
      },
      "source": [
        "we half the number of training epochs\n",
        "\n"
      ]
    },
    {
      "cell_type": "code",
      "metadata": {
        "id": "jDRtM7NMjeFB",
        "colab_type": "code",
        "colab": {}
      },
      "source": [
        "%cd /content/drive/My Drive/pytorch-classification/\n",
        "!python cifar.py -a resnet --dataset cifar10 --depth 20 --epochs 40 --schedule 81 122 --gamma 0.1 --wd 1e-4 --checkpoint checkpoint/cifar10_optional/resnet-20_epochx0.5"
      ],
      "execution_count": 0,
      "outputs": []
    },
    {
      "cell_type": "code",
      "metadata": {
        "id": "xh8knmH3jeC_",
        "colab_type": "code",
        "colab": {}
      },
      "source": [
        "%cd /content/drive/My Drive/pytorch-classification/checkpoint/cifar10_optional/resnet-20_epochx0.5/\n",
        "file = pd.read_csv('log.txt',delimiter='\t')\n",
        "plt.plot(file['Train_Loss'])\n",
        "plt.plot(file['Valid_Loss'])\n",
        "plt.legend(['Train_Loss','Valid_Loss'],loc='upper right');\n",
        "plt.show()"
      ],
      "execution_count": 0,
      "outputs": []
    },
    {
      "cell_type": "code",
      "metadata": {
        "id": "WYyr4QWHjeAO",
        "colab_type": "code",
        "colab": {}
      },
      "source": [
        "plt.plot(file['Train_Acc.'])\n",
        "plt.plot(file['Valid_Acc.'])\n",
        "plt.legend(['Train_Acc.','Valid_Acc.'],loc='lower right');\n",
        "plt.show()"
      ],
      "execution_count": 0,
      "outputs": []
    }
  ]
}